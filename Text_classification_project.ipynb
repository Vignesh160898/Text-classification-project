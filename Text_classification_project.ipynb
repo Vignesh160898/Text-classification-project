{
  "cells": [
    {
      "cell_type": "markdown",
      "metadata": {
        "id": "yRjM45PyC8ML"
      },
      "source": [
        "The 20 newsgroups dataset comprises around 18000 newsgroups posts on 20 topics split in two subsets: one for training (or development) and the other one for testing (or for performance evaluation). The split between the train and test set is based upon a messages posted before and after a specific date.\n",
        "\n",
        "Link to the original dataset: http://archive.ics.uci.edu/ml/datasets/Twenty+Newsgroups\n",
        "\n",
        "You can also import the dataset from sklearn.datasets"
      ]
    },
    {
      "cell_type": "code",
      "execution_count": null,
      "metadata": {
        "id": "CmFf2INNDJRb"
      },
      "outputs": [],
      "source": [
        "#importing the libraries\n",
        "\n",
        "import numpy as np\n",
        "import sklearn\n",
        "from sklearn.feature_extraction.text import TfidfVectorizer\n",
        "from sklearn.datasets import fetch_20newsgroups\n",
        "from pprint import pprint\n",
        "from sklearn.feature_extraction.text import CountVectorizer\n",
        "from sklearn import preprocessing\n",
        "import pandas as pd\n",
        "import re\n",
        "import numpy as np\n",
        "from nltk.tokenize import  word_tokenize \n",
        "import nltk\n",
        "from sklearn.naive_bayes import MultinomialNB\n",
        "from sklearn import metrics\n",
        "from nltk.corpus import stopwords\n",
        "from scipy.sparse import csr_matrix\n",
        "from sklearn.metrics import f1_score\n",
        "from sklearn.metrics import accuracy_score"
      ]
    },
    {
      "cell_type": "code",
      "execution_count": null,
      "metadata": {
        "id": "AEp1SHe5DKCB"
      },
      "outputs": [],
      "source": [
        "# Import the 20 news group dataset utilizing sklearn library\n",
        "\n",
        "mydata_train =  fetch_20newsgroups(subset='train', shuffle=True)\n",
        "\n",
        "mydata_test = fetch_20newsgroups(subset='test', shuffle=True)"
      ]
    },
    {
      "cell_type": "code",
      "execution_count": null,
      "metadata": {
        "id": "OscOmcE0DMHa",
        "colab": {
          "base_uri": "https://localhost:8080/"
        },
        "outputId": "6fe50c7f-a478-4068-ca3b-92000fd3c310"
      },
      "outputs": [
        {
          "output_type": "stream",
          "name": "stdout",
          "text": [
            "['alt.atheism', 'comp.graphics', 'comp.os.ms-windows.misc', 'comp.sys.ibm.pc.hardware', 'comp.sys.mac.hardware', 'comp.windows.x', 'misc.forsale', 'rec.autos', 'rec.motorcycles', 'rec.sport.baseball', 'rec.sport.hockey', 'sci.crypt', 'sci.electronics', 'sci.med', 'sci.space', 'soc.religion.christian', 'talk.politics.guns', 'talk.politics.mideast', 'talk.politics.misc', 'talk.religion.misc']\n"
          ]
        }
      ],
      "source": [
        "# Print the news groups(target) in the dataset\n",
        "\n",
        "print(mydata_train.target_names)"
      ]
    },
    {
      "cell_type": "code",
      "execution_count": null,
      "metadata": {
        "id": "JvQb2r0aDR_J",
        "colab": {
          "base_uri": "https://localhost:8080/"
        },
        "outputId": "f175caf6-9b50-464f-f447-85783f31be3a"
      },
      "outputs": [
        {
          "output_type": "stream",
          "name": "stdout",
          "text": [
            "<class 'sklearn.utils.Bunch'>\n",
            "<class 'sklearn.utils.Bunch'>\n"
          ]
        }
      ],
      "source": [
        "# What is the type of 'mydata_train' and 'mydata_test'\n",
        "\n",
        "print(type(mydata_train))\n",
        "print(type(mydata_test))"
      ]
    },
    {
      "cell_type": "code",
      "execution_count": null,
      "metadata": {
        "id": "ozzwyREhDaMK",
        "colab": {
          "base_uri": "https://localhost:8080/"
        },
        "outputId": "ceb40e2a-ec8d-4189-c168-11d414cf54b3"
      },
      "outputs": [
        {
          "output_type": "stream",
          "name": "stdout",
          "text": [
            "11314\n",
            "11314\n",
            "7532\n",
            "7532\n"
          ]
        }
      ],
      "source": [
        "# Check the length of the data\n",
        "\n",
        "print(len(mydata_train.data))\n",
        "print(len(mydata_train.filenames))\n",
        "print(len(mydata_test.data))\n",
        "print(len(mydata_test.filenames))"
      ]
    },
    {
      "cell_type": "markdown",
      "metadata": {
        "id": "BlipMuEpDz-K"
      },
      "source": [
        "### Expected Output: \n",
        "11314\n",
        "\n",
        "11314\n",
        "\n",
        "7532\n",
        "\n",
        "7532"
      ]
    },
    {
      "cell_type": "markdown",
      "metadata": {
        "id": "55FKOBBuEDI2"
      },
      "source": [
        "## Extracting Features from the Dataset                        (20 Points)"
      ]
    },
    {
      "cell_type": "markdown",
      "metadata": {
        "id": "u4GDENzmEEkG"
      },
      "source": [
        "In order to perform machine learning on text documents, we first need to turn the text content into numerical feature vectors."
      ]
    },
    {
      "cell_type": "markdown",
      "metadata": {
        "id": "OgxfDXmxEHid"
      },
      "source": [
        "### TF-IDF Vectorization"
      ]
    },
    {
      "cell_type": "markdown",
      "metadata": {
        "id": "Q8qNFFYyEKsa"
      },
      "source": [
        "Our model cannot simply read the text data so we convert it into numerical format. In order to convert the data into numerical format we create vectors from text.\n",
        "\n",
        "For this particular purpose we could either employ Bag of Words or TF-IDF Vectorization\n",
        "\n",
        "Bag of Words just creates a set of vectors containing the count of word occurrences in the document (reviews), while the TF-IDF model contains information on the more important words and the less important ones as well.\n",
        "\n",
        "TF-IDF stands for Term Frequency-Inverse Document Frequency, which instead of giving more weight to words that occur more frequently, it gives a higher weight to words that occur less frequently.\n",
        "\n",
        "Ref:https://www.analyticsvidhya.com/blog/2020/02/quick-introduction-bag-of-words-bow-tf-idf/#:~:text=Bag%20of%20Words%20just%20creates,less%20important%20ones%20as%20well."
      ]
    },
    {
      "cell_type": "markdown",
      "metadata": {
        "id": "dLzgRJRZEP3k"
      },
      "source": [
        "TF-IDF = Term Frequency (TF) * Inverse Document Frequency (IDF)"
      ]
    },
    {
      "cell_type": "markdown",
      "metadata": {
        "id": "xe5lHi3NE1QJ"
      },
      "source": [
        "Term Frequency is the measure of the frequency of words in a document. It is the ratio of the number of times the word appears in a document compared to the total number of words in that document.\n",
        "\n",
        "The words that occur rarely in the corpus have a high IDF score. It is the log of the ratio of the number of documents to the number of documents containing the word."
      ]
    },
    {
      "cell_type": "markdown",
      "metadata": {
        "id": "HXotAER_EQ8T"
      },
      "source": [
        "idf(t) = log(N/(df + 1))"
      ]
    },
    {
      "cell_type": "code",
      "execution_count": null,
      "metadata": {
        "id": "2vzVI8ylFAEl"
      },
      "outputs": [],
      "source": [
        "text = mydata_train.data\n",
        "test = mydata_test.data"
      ]
    },
    {
      "cell_type": "markdown",
      "metadata": {
        "id": "HZ2AatmvFtE-"
      },
      "source": [
        "## Preprocessing the Corpus"
      ]
    },
    {
      "cell_type": "code",
      "execution_count": null,
      "metadata": {
        "id": "XyJbe42AFuHp"
      },
      "outputs": [],
      "source": [
        "# Preprocessing the data\n",
        "def clean_message(message):\n",
        "    message = message.lower() #Converting the message to lowercase\n",
        "    message = re.sub(r'[^\\w\\s]', '', message) #Removing the punctuations in the message using regex\n",
        "    message = re.sub(r'https?://\\S+|www\\.\\S+', '', message) #Removing the links in the message using regex\n",
        "    message_cleaned = word_tokenize(message) #This function is to tokenize the message\n",
        "    message_cleaned = [r for r in message_cleaned if r not in stopwords.words(\"english\")] #Removing the stop words from the list of tokens\n",
        "    message_cleaned = ' '.join(word for word in message_cleaned)\n",
        "    return message_cleaned\n",
        "\n",
        "\n",
        "lines = [] \n",
        "word_list = [] \n",
        " \n",
        "for line in text:\n",
        "    #tokenize the text documents and update the lists word_list and lines\n",
        "    #tokenizing as lines\n",
        "    clean_line = clean_message(line)\n",
        "    lines.append(word_tokenize(clean_line))\n",
        "\n",
        "    #tokenizing as words\n",
        "    \n",
        "\n",
        "# Make sure the word_list contains unique tokens\n",
        "word_list = np.unique(np.concatenate(lines, axis=0))\n",
        "\n",
        "\n",
        "# Calculate the total documents present in the corpus\n",
        "total_docs = len(lines)\n",
        " \n",
        "#Create a dictionary to keep track of index of each word\n",
        "dict_idx = {word_list[i]: i for i in range(0, len(word_list))}\n"
      ]
    },
    {
      "cell_type": "code",
      "execution_count": null,
      "metadata": {
        "id": "E6M_CoI9FxYb"
      },
      "outputs": [],
      "source": [
        "# Create a frequency dictionary\n",
        " \n",
        "def frequency_dict(lines):\n",
        "    '''\n",
        "    lines: list containing all the tokens\n",
        "    ---\n",
        "    freq_word: returns a dictionary which keeps the count of the number of documents containing the given word\n",
        "    '''\n",
        "    freq_word = {word_list[i]: 0 for i in range(0, len(word_list))}\n",
        "    for word in word_list:\n",
        "        for line in lines:\n",
        "            if word in line:\n",
        "                freq_word[word] += 1\n",
        "    \n",
        "\n",
        "    return freq_word"
      ]
    },
    {
      "cell_type": "code",
      "execution_count": null,
      "metadata": {
        "id": "qFkt9KBgFz43",
        "colab": {
          "base_uri": "https://localhost:8080/"
        },
        "outputId": "ab56b30f-7a8d-48c3-a790-104489826515"
      },
      "outputs": [
        {
          "output_type": "execute_result",
          "data": {
            "text/plain": [
              "dict"
            ]
          },
          "metadata": {},
          "execution_count": 23
        }
      ],
      "source": [
        "# Create a dictionary containing the frequency of words utilizing the 'frequency_dict' function\n",
        "\n",
        "# Expect this chunk to take a comparatively longer time to execute since our dataset is large\n",
        "\n",
        "freq_word = frequency_dict(lines)\n",
        "\n",
        "type(freq_word)"
      ]
    },
    {
      "cell_type": "code",
      "execution_count": null,
      "metadata": {
        "id": "vLvPijR_GKHn"
      },
      "outputs": [],
      "source": [
        "# Create a function to calculate the Term Frequency\n",
        "\n",
        "def term_frequency(document, word):\n",
        "    '''\n",
        "    document: list containing the entire corpus\n",
        "    word: word whose term frequency is to be calculated\n",
        "    ---\n",
        "    tf: returns term frequency value\n",
        "    '''\n",
        "    tf=document.count(word)/len(document)\n",
        "\n",
        "    return tf"
      ]
    },
    {
      "cell_type": "code",
      "execution_count": null,
      "metadata": {
        "id": "HA99G_yAGLCC"
      },
      "outputs": [],
      "source": [
        "# Create a function to calculate the Inverse Document Frequency\n",
        "import math\n",
        "\n",
        "def inverse_df(word):\n",
        "    '''\n",
        "    word: word whose inverse document frequency is to be calculated\n",
        "    ---\n",
        "    idf: return inverse document frequency value\n",
        "'''\n",
        "    idf = np.log((total_docs + 1)/(freq_word[word] + 1)) + 1\n",
        "\n",
        "    return idf"
      ]
    },
    {
      "cell_type": "code",
      "execution_count": null,
      "metadata": {
        "id": "F0irgwv2GRfE"
      },
      "outputs": [],
      "source": [
        "#Create a function to combine the term frequencies (TF) and inverse document (IDF) frequencies calculated above to get TF-IDF\n",
        "\n",
        "def tfidf(sentence):\n",
        "    '''\n",
        "    sentence: list containing the entire corpus\n",
        "    dict: dictionary keeping track of index of each word\n",
        "    ---\n",
        "    tf_idf_vec: returns computed tf-idf\n",
        "    '''\n",
        "    tf_idf_vec = {}\n",
        "    tf={}\n",
        "    idf={}\n",
        "    word_list =[]\n",
        "    for line_index, line in enumerate(sentence):\n",
        "        for word in line:\n",
        "            if len(word) < 2:\n",
        "                continue\n",
        "            tf[word, line_index] = term_frequency(line, word)\n",
        "            if word not in word_list:\n",
        "                word_list.append(word)\n",
        "    for word in word_list:\n",
        "        idf[word] = inverse_df(word)\n",
        "    \n",
        "    for keys in tf.keys():\n",
        "        tf_idf_vec[keys] = tf[keys] * idf[keys[0]]\n",
        "        \n",
        "    sparse_matrix = csr_matrix((len(sentence), len(word_list))).toarray()\n",
        "    \n",
        "    dict_idx = {word_list[i]: i for i in range(0, len(word_list))}\n",
        "    \n",
        "    for row, line in enumerate(sentence):\n",
        "        for word, ind in zip(dict_idx.keys(), dict_idx.values()):\n",
        "            sparse_matrix[row, ind] = tf_idf_vec.get((word, row), 0)\n",
        "    return sparse_matrix\n",
        "    "
      ]
    },
    {
      "cell_type": "code",
      "execution_count": null,
      "metadata": {
        "id": "_VKJhqatGWpV"
      },
      "outputs": [],
      "source": [
        "#Compute the vectors utilizing the 'tfidf' function created above to obtain a TF-IDF Encoded text corpus\n",
        "\n",
        "X = tfidf(lines)"
      ]
    },
    {
      "cell_type": "markdown",
      "metadata": {
        "id": "LE0UGUaSGb8I"
      },
      "source": [
        "## Multinomial Naive Bayes (10 Points)"
      ]
    },
    {
      "cell_type": "code",
      "execution_count": null,
      "metadata": {
        "id": "yWYcxrdJGfDC",
        "colab": {
          "base_uri": "https://localhost:8080/"
        },
        "outputId": "d88412f2-0a20-4ac1-f996-415f336dfb22"
      },
      "outputs": [
        {
          "output_type": "execute_result",
          "data": {
            "text/plain": [
              "MultinomialNB()"
            ]
          },
          "metadata": {},
          "execution_count": 35
        }
      ],
      "source": [
        "#Fit a Multinomial Naive Bayes Model on our dataset\n",
        "\n",
        "model = MultinomialNB()\n",
        "target_y = mydata_train.target\n",
        "model.fit(X, target_y)\n"
      ]
    },
    {
      "cell_type": "code",
      "execution_count": null,
      "metadata": {
        "id": "G6CiQB4qGfqH"
      },
      "outputs": [],
      "source": [
        "#Perform testing on the train dataset\n",
        "\n",
        "pred = model.predict(X)"
      ]
    },
    {
      "cell_type": "code",
      "execution_count": null,
      "metadata": {
        "id": "yCLagGu6Gh6T",
        "colab": {
          "base_uri": "https://localhost:8080/"
        },
        "outputId": "733d1c5e-d437-469f-e259-bdac6d19500b"
      },
      "outputs": [
        {
          "output_type": "stream",
          "name": "stdout",
          "text": [
            "F1 Score:  0.905\n",
            "Accuracy:  0.905\n"
          ]
        }
      ],
      "source": [
        "#Calculate the F1 Score and the Accuracy\n",
        "F1_score = f1_score(target_y, pred, average='micro')\n",
        "Accuracy = accuracy_score(target_y, pred)\n",
        "print(\"F1 Score: \", F1_score)\n",
        "print(\"Accuracy: \", Accuracy)"
      ]
    },
    {
      "cell_type": "markdown",
      "metadata": {
        "id": "bbMRqJv5Gl2F"
      },
      "source": [
        "### Expected Output:\n",
        "F1 Score: 0.9533633964397735\n",
        "\n",
        "Accuracy: 0.9524482941488421"
      ]
    },
    {
      "cell_type": "markdown",
      "metadata": {
        "id": "AWRDuUqU-taV"
      },
      "source": [
        "Your accuracy does not have to be exactly the same. This is just to give you an estimate of what could you expect your accuracy to be around."
      ]
    },
    {
      "cell_type": "markdown",
      "metadata": {
        "id": "UfMc8cz93Cc0"
      },
      "source": [
        "## Question 2 Vector Visualization"
      ]
    },
    {
      "cell_type": "markdown",
      "metadata": {
        "id": "70iwEeL23F7K"
      },
      "source": [
        "In this unsupervised learning task we are going to cluster wikipedia articles into groups using T-SNE visualization after vectorization."
      ]
    },
    {
      "cell_type": "markdown",
      "metadata": {
        "id": "UHx4YuxW36oM"
      },
      "source": [
        "### Collect articles from Wikipedia (10 points)\n",
        "\n",
        "In this section we will download articles from wikipedia and then vectorize them in the next step. You can select somewhat related topics or fetch the articles randomly. \n",
        "(Use dir() and help() functions or refer wikipedia documentation)\n",
        "You may also pick any other data source of your choice instead of wikipedia."
      ]
    },
    {
      "cell_type": "code",
      "execution_count": null,
      "metadata": {
        "id": "jA419x6__mjg"
      },
      "outputs": [],
      "source": [
        "# install libraries\n",
        "!pip install wikipedia"
      ]
    },
    {
      "cell_type": "code",
      "execution_count": null,
      "metadata": {
        "id": "vLMLk4K84Zbn"
      },
      "outputs": [],
      "source": [
        "import wikipedia\n",
        "from wikipedia.exceptions import WikipediaException\n",
        "\n",
        "'''\n",
        " Generate a list of wikipedia article to cluster \n",
        " You can maintain a static list of titles or generate them randomly using wikipedia library\n",
        " Some topics include:\n",
        " [\"Northeastern Unversity\", \"Natural language processing\", \"Machine learning\", \"Quantum machine learning\", \"Artificial intelligence\", \"Data science\", \"Master in Data Science\", \n",
        " \"Bank of America\", \"Visa Inc.\", \"European Central Bank\", \"Bank\", \"Financial technology\",\"International Monetary Fund\", \n",
        " \"Basketball\", \"Swimming\", \"Tennis\", \"Football\", \"College Football\", \"Association Football\"]\n",
        "\n",
        " You can add more topics from different categories so that we have a diverse dataset to work with. \n",
        " Ex- About 3+ categories(groups), 3+ topics in each category, 3+ articles in each topic\n",
        "'''\n",
        "\n",
        "# selected topics\n",
        "topics = []\n",
        "\n",
        "# list of articles to be downloaded\n",
        "articles = [\"Northeastern Unversity\", \"Natural language processing\", \"Machine learning\", \"Quantum machine learning\", \"Engineering Management\" , \"Library\" , \"Cafeteria\" , \"Artificial intelligence\", \"Data science\", \"Master in Data Science\", \n",
        " \"Bank of America\", \"Chase Bank\" , \"Visa Inc.\",  \"European Central Bank\", \"Bank\", \"World War\" , \"Student loans\" , \"Financial technology\",\"International Monetary Fund\", \n",
        " \"Basketball\", \"Swimming\", \"Tennis\", \"Football\", \"College Football\", \"Association Football\"]\n",
        "\n",
        "# download and store articles (summaries) in this variable\n",
        "data = []\n",
        "for article in articles:\n",
        "    data.append(wikipedia.page(article , auto_suggest=False).summary)\n"
      ]
    },
    {
      "cell_type": "markdown",
      "source": [
        "Before vectorizing my data, I decided to clean it up. Because of the absence of uniformity, punctuation characters, digits, and upper case letters treat a word as if it were a different one. Clustering results will be influenced by the occurrence of stop words in high frequency. It's also critical to feed your data to the model in a fashion that the model understands in order for the model to achieve maximum accuracy and efficiency."
      ],
      "metadata": {
        "id": "DoqZtIXWlBjH"
      }
    },
    {
      "cell_type": "code",
      "execution_count": null,
      "metadata": {
        "id": "lNj53Pxr963N"
      },
      "outputs": [],
      "source": [
        "# You can use Assignment 1's clean message function\n",
        "import re\n",
        "import nltk\n",
        "from nltk.corpus import stopwords\n",
        "from nltk.stem import PorterStemmer\n",
        "from nltk.tokenize import word_tokenize\n",
        "import warnings\n",
        "import pandas as pd\n",
        "import seaborn as sns\n",
        "import numpy as np\n",
        "nltk.download('punkt')\n",
        "nltk.download('omw-1.4')\n",
        "nltk.download('wordnet')\n",
        "nltk.download('stopwords')\n",
        "warnings.filterwarnings(\"ignore\")\n",
        "\n",
        "def clean_message(message):\n",
        "    message = message.lower() #Converting the message to lowercase\n",
        "    message = re.sub(r'[^\\w\\s]', '', message) #Removing the punctuations in the message using regex\n",
        "    message = re.sub(r'https?://\\S+|www\\.\\S+', '', message) #Removing the links in the message using regex\n",
        "    message_cleaned = word_tokenize(message) #This function is to tokenize the message\n",
        "    message_cleaned = [r for r in message_cleaned if r not in stopwords.words(\"english\")] #Removing the stop words from the list of tokens\n",
        "    wn = nltk.WordNetLemmatizer()\n",
        "    message_cleaned = [wn.lemmatize(x) for x in message_cleaned] #This function is to lemmatize the message\n",
        "    message_cleaned = ' '.join(word for word in message_cleaned)\n",
        "\n",
        "    return message_cleaned\n",
        "\n"
      ]
    },
    {
      "cell_type": "markdown",
      "metadata": {
        "id": "bvRZUpmq-DmT"
      },
      "source": [
        "### Vectorize the articles (5 points)\n",
        "\n",
        "In this step, we will vectorize the text data. You can use TfidfVectorizer() or countVectorizer() from sklearn library."
      ]
    },
    {
      "cell_type": "code",
      "execution_count": null,
      "metadata": {
        "id": "gJk8YY89-OU4"
      },
      "outputs": [],
      "source": [
        "from sklearn.feature_extraction.text import TfidfVectorizer , CountVectorizer\n",
        "data_clean = []\n",
        "for text in data:\n",
        "    data_clean.append(clean_message(text))\n",
        "tfidfv = TfidfVectorizer()\n",
        "X = tfidfv.fit_transform(data_clean)\n"
      ]
    },
    {
      "cell_type": "code",
      "execution_count": null,
      "metadata": {
        "id": "DAIGlqEuINWA",
        "colab": {
          "base_uri": "https://localhost:8080/"
        },
        "outputId": "56275329-d432-4746-8f7d-59080c88a3de"
      },
      "outputs": [
        {
          "output_type": "stream",
          "name": "stdout",
          "text": [
            "(25, 1826)\n"
          ]
        }
      ],
      "source": [
        "print(X.shape)"
      ]
    },
    {
      "cell_type": "markdown",
      "metadata": {
        "id": "PKLvrKHRQaQq"
      },
      "source": [
        "### Sample Output:\n",
        "(36, 1552)"
      ]
    },
    {
      "cell_type": "markdown",
      "metadata": {
        "id": "M5ZrGrzD_G8d"
      },
      "source": [
        "### Plot Articles (10 points)\n",
        "Now we will try to verify the groups of articles using T-SNE from sklearn library."
      ]
    },
    {
      "cell_type": "code",
      "execution_count": null,
      "metadata": {
        "id": "SjcuZBOe-oZq"
      },
      "outputs": [],
      "source": [
        "from sklearn.manifold import TSNE\n",
        "tsne = TSNE(2, verbose=1)\n",
        "# call TSNE() to fit the data\n",
        "z = tsne.fit_transform(X) \n",
        "df_subset = pd.DataFrame()\n",
        "df_subset['tsne-2d-one'] = z[:,0]\n",
        "df_subset['tsne-2d-two'] = z[:,1]"
      ]
    },
    {
      "cell_type": "markdown",
      "metadata": {
        "id": "iCY_blxjO1bs"
      },
      "source": [
        "Plot and annotate the points with different markers for different expected groups."
      ]
    },
    {
      "cell_type": "code",
      "execution_count": null,
      "metadata": {
        "id": "3ODUA1Vf-rRd",
        "colab": {
          "base_uri": "https://localhost:8080/",
          "height": 623
        },
        "outputId": "514a6189-3059-48af-9aaa-5f4743d1f7f1"
      },
      "outputs": [
        {
          "output_type": "execute_result",
          "data": {
            "text/plain": [
              "<matplotlib.axes._subplots.AxesSubplot at 0x7f9a2c141190>"
            ]
          },
          "metadata": {},
          "execution_count": 70
        },
        {
          "output_type": "display_data",
          "data": {
            "text/plain": [
              "<Figure size 1152x720 with 1 Axes>"
            ],
            "image/png": "[encoded data removed]"
          },
          "metadata": {
            "needs_background": "light"
          }
        }
      ],
      "source": [
        "import matplotlib.pyplot as plt\n",
        "plt.figure(figsize=(16,10))\n",
        "sns.scatterplot(\n",
        "    x=df_subset['tsne-2d-one'], y=df_subset['tsne-2d-two'],\n",
        "    hue=articles,\n",
        "    palette=sns.color_palette(\"hls\", 25),\n",
        "    data=df_subset,\n",
        "    legend=\"full\",\n",
        "    alpha = 0.9\n",
        ")"
      ]
    },
    {
      "cell_type": "markdown",
      "metadata": {
        "id": "dYcEi1EC_UGO"
      },
      "source": [
        "**Question:** Comment about the categorizion done by T-SNE. Do the articles of related topics cluster together? (5 points)"
      ]
    },
    {
      "cell_type": "markdown",
      "source": [
        "The T-SNE has classified the documents based on the content of the articles scraped from Wikipedia. As we can see from the plot, it has clustered some documents correctly together closely, but some similar known documents are placed far apart. This could be because of the content in the Wikipedia articles that have made the algorithm cluster them this way. For example, Student loans, Financial Technology and Internatioal Monetary fund are clustered closer because they are all connected by the common topic of 'financial matters'.\n"
      ],
      "metadata": {
        "id": "GmWh2E4JltV-"
      }
    },
    {
      "cell_type": "markdown",
      "metadata": {
        "id": "tde1Wu5HI6AA"
      },
      "source": [
        "**Answer(1-3 sentences):**  \n",
        "  \n"
      ]
    },
    {
      "cell_type": "markdown",
      "metadata": {
        "id": "U2xrJddIpSsd"
      },
      "source": [
        "# Building Neural Networks\n",
        "\n",
        "### We are gonna use Emotions Dataset for this task. We need to classify the given text into different kind of emotions like happy,sad,anger etc.., \n",
        "\n",
        "### We are providing train.txt and val.txt files along with this notebook for download "
      ]
    },
    {
      "cell_type": "markdown",
      "metadata": {
        "id": "NJYmVbkvphgX"
      },
      "source": [
        "### Library Imports and Utility functions"
      ]
    },
    {
      "cell_type": "code",
      "execution_count": null,
      "metadata": {
        "id": "BO-HU-7uorVX",
        "colab": {
          "base_uri": "https://localhost:8080/"
        },
        "outputId": "1133b11f-7474-4bff-e225-9cdef142492d"
      },
      "outputs": [
        {
          "output_type": "stream",
          "name": "stderr",
          "text": [
            "[nltk_data] Downloading package stopwords to /root/nltk_data...\n",
            "[nltk_data]   Package stopwords is already up-to-date!\n",
            "[nltk_data] Downloading package wordnet to /root/nltk_data...\n",
            "[nltk_data]   Package wordnet is already up-to-date!\n",
            "[nltk_data] Downloading package words to /root/nltk_data...\n",
            "[nltk_data]   Package words is already up-to-date!\n",
            "[nltk_data] Downloading package omw-1.4 to /root/nltk_data...\n",
            "[nltk_data]   Package omw-1.4 is already up-to-date!\n",
            "[nltk_data] Downloading package punkt to /root/nltk_data...\n",
            "[nltk_data]   Package punkt is already up-to-date!\n"
          ]
        }
      ],
      "source": [
        "from sklearn.feature_extraction.text import CountVectorizer\n",
        "from sklearn.feature_extraction.text import TfidfVectorizer\n",
        "import nltk\n",
        "from nltk.corpus import stopwords\n",
        "from nltk.stem import PorterStemmer\n",
        "from nltk.tokenize import word_tokenize\n",
        "import string\n",
        "import pandas as pd\n",
        "import re\n",
        "#string.punctuation\n",
        "import nltk\n",
        "nltk.download('stopwords')\n",
        "nltk.download('wordnet')\n",
        "nltk.download('words')\n",
        "nltk.download('omw-1.4')\n",
        "nltk.download('punkt')\n",
        "stopword = nltk.corpus.stopwords.words('english')\n",
        "wn = nltk.WordNetLemmatizer()\n",
        "ps = nltk.PorterStemmer()\n",
        "words = set(nltk.corpus.words.words())\n",
        "\n",
        "\n",
        "def clean_text(text):\n",
        "    text = text.lower() #Converting the text to lowercase\n",
        "    text = re.sub(r'[^\\w\\s]', '', text) #Removing the punctuations in the text using regex\n",
        "    text = re.sub(r'https?://\\S+|www\\.\\S+', '', text) #Removing the links in the text using regex\n",
        "    text_cleaned = word_tokenize(text) #This function is to tokenize the text\n",
        "    text_cleaned = [r for r in text_cleaned if r not in stopwords.words(\"english\")] #Removing the stop words from the list of tokens\n",
        "    wn = nltk.WordNetLemmatizer()\n",
        "    text_cleaned = [wn.lemmatize(x) for x in text_cleaned] #This function is to lemmatize the message\n",
        "    text_cleaned = ' '.join(word for word in text_cleaned)\n",
        "\n",
        "    return text_cleaned\n",
        "\n"
      ]
    },
    {
      "cell_type": "markdown",
      "metadata": {
        "id": "B0D5wVjZw7s0"
      },
      "source": [
        "### Q) Importing the datasets and do the necessary cleaning and convert the text into the vectors which are mentioned in the below code blocks. (10 points)"
      ]
    },
    {
      "cell_type": "code",
      "execution_count": null,
      "metadata": {
        "id": "MOMhmIlGprK9",
        "colab": {
          "base_uri": "https://localhost:8080/"
        },
        "outputId": "d1e3e9d7-d515-401a-c128-20d49b4e851c"
      },
      "outputs": [
        {
          "output_type": "execute_result",
          "data": {
            "text/plain": [
              "((16000, 2), (2000, 2))"
            ]
          },
          "metadata": {},
          "execution_count": 42
        }
      ],
      "source": [
        " # Import the train.txt and val.txt file into pandas dataframe format \n",
        "\n",
        "# train \n",
        "df_train = pd.read_csv('train.txt' , delimiter = ';', header = None)\n",
        "# validation\n",
        "df_val = pd.read_csv('val.txt', delimiter = ';', header = None)\n",
        "# and printout the train.shape and validation.shape \n",
        "df_train.shape , df_val.shape\n",
        "# expected shape of train dataset is (16000,2) and validation dataset is (2000,2)"
      ]
    },
    {
      "cell_type": "code",
      "execution_count": null,
      "metadata": {
        "id": "PS7K3p7AqAI8"
      },
      "outputs": [],
      "source": [
        "# clean the text in the train and validation dataframes using the clean_text function provided above\n",
        "df_train[0] = [clean_text(text) for text in df_train[0]]\n",
        "df_val[0] = [clean_text(text) for text in df_val[0]]"
      ]
    },
    {
      "cell_type": "code",
      "execution_count": null,
      "metadata": {
        "id": "GxZC6RIjq3bu"
      },
      "outputs": [],
      "source": [
        "# initialise count vectorizer from sklearn module with default parameter\n",
        "from sklearn.feature_extraction.text import CountVectorizer\n",
        "countvect = CountVectorizer()\n",
        "# fit on train dataset and transform both train and validation dataset\n",
        "df_countvect_train = countvect.fit_transform(df_train[0])\n",
        "df_countvect_val = countvect.transform(df_val[0])\n"
      ]
    },
    {
      "cell_type": "code",
      "execution_count": null,
      "metadata": {
        "id": "85nuazEzq3YT"
      },
      "outputs": [],
      "source": [
        " # initialise tfidf vectorizer from sklearn module with default parameter\n",
        "tfidfv = TfidfVectorizer()\n",
        "# fit on train dataset and transform both train and validation dataset\n",
        "df_tf_transform_train = tfidfv.fit_transform(df_train[0])\n",
        "df_tf_transform_val = tfidfv.transform(df_val[0])"
      ]
    },
    {
      "cell_type": "code",
      "execution_count": null,
      "metadata": {
        "id": "jgHWAuG-q3Vm"
      },
      "outputs": [],
      "source": [
        "# initialise label encoder from sklearn module\n",
        "from sklearn import preprocessing\n",
        "le = preprocessing.LabelEncoder()\n",
        "# fit on train labels and transform both train and validation labels\n",
        "df_train[1] = le.fit_transform(df_train[1])\n",
        "df_val[1] = le.transform(df_val[1])"
      ]
    },
    {
      "cell_type": "code",
      "execution_count": null,
      "metadata": {
        "id": "Wjdye0tvq3So"
      },
      "outputs": [],
      "source": [
        "# convert the labels into one hot encoding form\n",
        "ohe_train_labels = pd.DataFrame()\n",
        "ohe_train_labels = pd.get_dummies(df_train[1])\n",
        "ohe_val_labels = pd.DataFrame()\n",
        "ohe_val_labels = pd.get_dummies(df_val[1])"
      ]
    },
    {
      "cell_type": "markdown",
      "metadata": {
        "id": "xjsiH8YOw-Da"
      },
      "source": [
        "### Q) Build the neural networks using tensorflow keras by following the below instructions. Evaluate the model on different metrics."
      ]
    },
    {
      "cell_type": "code",
      "execution_count": null,
      "metadata": {
        "id": "AQg14bkTq3KB"
      },
      "outputs": [],
      "source": [
        "import tensorflow as tf\n",
        "\n",
        "tf.random.set_seed(42)\n",
        "\n",
        "\n",
        "# complete this linear model in tensorflow\n",
        "def build_model(X):\n",
        "    model = tf.keras.models.Sequential() \n",
        "    # layer 1 : input layer\n",
        "    inp = tf.keras.Input((X.shape[1],))\n",
        "    model.add(inp)\n",
        "\n",
        "  # layer 2 : add the dense layer with 2048 units and relu activation\n",
        "    layer2 = tf.keras.layers.Dense(units = 2048 , activation = 'relu')\n",
        "    model.add(layer2)\n",
        "  # layer 3 : add the dropout layer with dropout rate of 0.5\n",
        "    layer3 = tf.keras.layers.Dropout(rate = 0.5)\n",
        "    model.add(layer3)\n",
        "  # layer 4 : add the dense layer with 1024 units with tanh activation and with l2 regularization\n",
        "    layer4 = tf.keras.layers.Dense(units = 1024 , activation = 'tanh', kernel_regularizer='l2')\n",
        "    model.add(layer4)\n",
        "  # layer 5 : add the dropout layer with dropout rate of 0.5\n",
        "    layer5 = tf.keras.layers.Dropout(rate = 0.5)\n",
        "    model.add(layer5)\n",
        "  # layer 6 : add the dense layer with 512 units with tanh activation and with l2 regularization\n",
        "    layer6 = tf.keras.layers.Dense(units = 512 , activation = 'tanh', kernel_regularizer='l2')\n",
        "    model.add(layer6)\n",
        "  # layer 7 : add the dropout layer with dropout rate of 0.5\n",
        "    layer7 = tf.keras.layers.Dropout(rate = 0.5)\n",
        "    model.add(layer7)\n",
        "  # layer 8 : add the dense layer with 256 units with tanh activation and with l2 regularization\n",
        "    layer8 = tf.keras.layers.Dense(units = 256 , activation = 'tanh', kernel_regularizer='l2')\n",
        "    model.add(layer8)\n",
        "  # layer 9 : add the dropout layer with dropout rate of 0.5\n",
        "    layer9 = tf.keras.layers.Dropout(rate = 0.5)\n",
        "    model.add(layer9)\n",
        "  # layer 10 : add the dense layer with 128 units with tanh activation and with l2 regularization\n",
        "    layer10 = tf.keras.layers.Dense(units = 128 , activation = 'tanh', kernel_regularizer='l2')\n",
        "    model.add(layer10)\n",
        "  # layer 11 : add the dropout layer with dropout rate of 0.5\n",
        "    layer11 = tf.keras.layers.Dropout(rate = 0.5)\n",
        "    model.add(layer11)\n",
        "  # layer 12 : output layer with units equal to number of classes and activation as softmax\n",
        "    layer12 = tf.keras.layers.Dense(units = 6, activation = 'softmax')\n",
        "    model.add(layer12)\n",
        "  # use loss as categorical crossentropy, optimizer as rmsprop and evaluate model on auc,precision,recall,accuracy \n",
        "    model.compile(loss=tf.keras.losses.CategoricalCrossentropy(), optimizer='rmsprop', metrics=['AUC' , 'accuracy' , 'Precision' , 'Recall'])\n",
        "    return model\n"
      ]
    },
    {
      "cell_type": "code",
      "execution_count": null,
      "metadata": {
        "id": "Q71CC1pIsx0O"
      },
      "outputs": [],
      "source": [
        "# call the build_model function and initialize the model\n",
        "bm = build_model(df_countvect_train)"
      ]
    },
    {
      "cell_type": "code",
      "execution_count": null,
      "metadata": {
        "id": "KyAZNgsBsxwo"
      },
      "outputs": [],
      "source": [
        "# train and validate the model on the count vectors of text which we have created initially for 10 epochs, \n",
        "# adjust batch size according to your computation power (suggestion use : 8)\n",
        "history = bm.fit( df_countvect_train.toarray(), ohe_train_labels, epochs=10, batch_size=8 , validation_data = (df_countvect_val.toarray() , ohe_val_labels))"
      ]
    },
    {
      "cell_type": "code",
      "source": [
        "history.history"
      ],
      "metadata": {
        "id": "flxUOQivVEMM"
      },
      "execution_count": null,
      "outputs": []
    },
    {
      "cell_type": "code",
      "execution_count": null,
      "metadata": {
        "id": "nS02IwLCsxmG",
        "colab": {
          "base_uri": "https://localhost:8080/",
          "height": 295
        },
        "outputId": "d03981f7-8a46-4ba9-b8ec-c3366f0da8f9"
      },
      "outputs": [
        {
          "output_type": "display_data",
          "data": {
            "text/plain": [
              "<Figure size 432x288 with 1 Axes>"
            ],
            "image/png": "[encoded data removed]"
          },
          "metadata": {
            "needs_background": "light"
          }
        }
      ],
      "source": [
        "# plot train loss vs val loss, train auc vs val auc, train recall vs val recall, train precision vs val precision and train accuracy vs val accuracy and comment your observations\n",
        "import matplotlib.pyplot as plt\n",
        "loss_train = history.history['loss']\n",
        "loss_val = history.history['val_loss']\n",
        "epochs = range(0,10)\n",
        "plt.plot(epochs, loss_train, 'g', label='Training loss')\n",
        "plt.plot(epochs, loss_val, 'b', label='validation loss')\n",
        "plt.title('Training and Validation loss')\n",
        "plt.xlabel('Epochs')\n",
        "plt.ylabel('Loss')\n",
        "plt.legend()\n",
        "plt.show()"
      ]
    },
    {
      "cell_type": "code",
      "source": [
        "auc_train = history.history['auc']\n",
        "auc_val = history.history['val_auc']\n",
        "epochs = range(0,10)\n",
        "plt.plot(epochs, auc_train, 'g', label='Training auc')\n",
        "plt.plot(epochs, auc_val, 'b', label='validation auc')\n",
        "plt.title('Training and Validation auc')\n",
        "plt.xlabel('Epochs')\n",
        "plt.ylabel('AUC')\n",
        "plt.legend()\n",
        "plt.show()"
      ],
      "metadata": {
        "colab": {
          "base_uri": "https://localhost:8080/",
          "height": 295
        },
        "id": "NSmObmMgVHwp",
        "outputId": "4e826dec-fa9c-4ee3-dc12-d6ff8378f7ac"
      },
      "execution_count": null,
      "outputs": [
        {
          "output_type": "display_data",
          "data": {
            "text/plain": [
              "<Figure size 432x288 with 1 Axes>"
            ],
            "image/png": "[encoded data removed]"
          },
          "metadata": {
            "needs_background": "light"
          }
        }
      ]
    },
    {
      "cell_type": "code",
      "source": [
        "accuracy_train = history.history['accuracy']\n",
        "accuracy_val = history.history['val_accuracy']\n",
        "epochs = range(0,10)\n",
        "plt.plot(epochs, accuracy_train, 'g', label='Training accuracy')\n",
        "plt.plot(epochs, accuracy_val, 'b', label='validation accuracy')\n",
        "plt.title('Training and Validation accuracy')\n",
        "plt.xlabel('Epochs')\n",
        "plt.ylabel('Accuracy')\n",
        "plt.legend()\n",
        "plt.show()"
      ],
      "metadata": {
        "colab": {
          "base_uri": "https://localhost:8080/",
          "height": 295
        },
        "id": "s4eg6QiDVYri",
        "outputId": "58d9b631-06d9-43f8-f9d6-c3f2610296ab"
      },
      "execution_count": null,
      "outputs": [
        {
          "output_type": "display_data",
          "data": {
            "text/plain": [
              "<Figure size 432x288 with 1 Axes>"
            ],
            "image/png": "[encoded data removed]"
          },
          "metadata": {
            "needs_background": "light"
          }
        }
      ]
    },
    {
      "cell_type": "code",
      "source": [
        "recall_train = history.history['recall']\n",
        "recall_val = history.history['val_recall']\n",
        "epochs = range(0,10)\n",
        "plt.plot(epochs, recall_train, 'g', label='Training recall')\n",
        "plt.plot(epochs, recall_val, 'b', label='validation recall')\n",
        "plt.title('Training and Validation recall')\n",
        "plt.xlabel('Epochs')\n",
        "plt.ylabel('Recall')\n",
        "plt.legend()\n",
        "plt.show()"
      ],
      "metadata": {
        "colab": {
          "base_uri": "https://localhost:8080/",
          "height": 295
        },
        "id": "lSJkEkTTVqXW",
        "outputId": "9988cf6d-ba3b-4513-c7ff-62da61901eda"
      },
      "execution_count": null,
      "outputs": [
        {
          "output_type": "display_data",
          "data": {
            "text/plain": [
              "<Figure size 432x288 with 1 Axes>"
            ],
            "image/png": "[encoded data removed]"
          },
          "metadata": {
            "needs_background": "light"
          }
        }
      ]
    },
    {
      "cell_type": "code",
      "source": [
        "precision_train = history.history['precision']\n",
        "precision_val = history.history['val_precision']\n",
        "epochs = range(0,10)\n",
        "plt.plot(epochs, precision_train, 'g', label='Training precision')\n",
        "plt.plot(epochs, precision_val, 'b', label='validation precision')\n",
        "plt.title('Training and Validation precision')\n",
        "plt.xlabel('Epochs')\n",
        "plt.ylabel('Precision')\n",
        "plt.legend()\n",
        "plt.show()"
      ],
      "metadata": {
        "colab": {
          "base_uri": "https://localhost:8080/",
          "height": 295
        },
        "id": "t73c90nPWJDG",
        "outputId": "7fcde771-a154-4366-cefd-8d600fc1c6d6"
      },
      "execution_count": null,
      "outputs": [
        {
          "output_type": "display_data",
          "data": {
            "text/plain": [
              "<Figure size 432x288 with 1 Axes>"
            ],
            "image/png": "[encoded data removed]"
          },
          "metadata": {
            "needs_background": "light"
          }
        }
      ]
    },
    {
      "cell_type": "code",
      "execution_count": null,
      "metadata": {
        "id": "6FHdCcp7wXyw"
      },
      "outputs": [],
      "source": [
        "# again call the build_model function and initialize the model\n",
        "bm2 = build_model(df_tf_transform_train)"
      ]
    },
    {
      "cell_type": "code",
      "execution_count": null,
      "metadata": {
        "id": "k4gB80M6wXvV"
      },
      "outputs": [],
      "source": [
        "# train and validate the model on the tfidf vectors of text which we have created initially for 10 epochs, \n",
        "# adjust batch size according to your computation power (suggestion use : 8)\n",
        "history = bm2.fit(df_tf_transform_train.toarray() , ohe_val_labels, batch_size = 8 , validation_data = (df_tf_transform_val , ohe_val_labels))"
      ]
    },
    {
      "cell_type": "code",
      "execution_count": null,
      "metadata": {
        "id": "EsnEOHXRwXkv"
      },
      "outputs": [],
      "source": [
        "# plot train loss vs val loss, train auc vs val auc, train recall vs val recall, train precision vs val precision and train accuracy vs val accuracy and comment your observations\n",
        "loss_train = history.history['loss']\n",
        "loss_val = history.history['val_loss']\n",
        "epochs = range(0,10)\n",
        "plt.plot(epochs, loss_train, 'g', label='Training loss')\n",
        "plt.plot(epochs, loss_val, 'b', label='validation loss')\n",
        "plt.title('Training and Validation loss')\n",
        "plt.xlabel('Epochs')\n",
        "plt.ylabel('Loss')\n",
        "plt.legend()\n",
        "plt.show()"
      ]
    },
    {
      "cell_type": "code",
      "source": [
        "auc_train = history.history['auc']\n",
        "auc_val = history.history['val_auc']\n",
        "epochs = range(0,10)\n",
        "plt.plot(epochs, auc_train, 'g', label='Training auc')\n",
        "plt.plot(epochs, auc_val, 'b', label='validation auc')\n",
        "plt.title('Training and Validation auc')\n",
        "plt.xlabel('Epochs')\n",
        "plt.ylabel('AUC')\n",
        "plt.legend()\n",
        "plt.show()"
      ],
      "metadata": {
        "id": "fS6rFQTrW8Ai"
      },
      "execution_count": null,
      "outputs": []
    },
    {
      "cell_type": "code",
      "source": [
        "accuracy_train = history.history['accuracy']\n",
        "accuracy_val = history.history['val_accuracy']\n",
        "epochs = range(0,10)\n",
        "plt.plot(epochs, accuracy_train, 'g', label='Training accuracy')\n",
        "plt.plot(epochs, accuracy_val, 'b', label='validation accuracy')\n",
        "plt.title('Training and Validation accuracy')\n",
        "plt.xlabel('Epochs')\n",
        "plt.ylabel('Accuracy')\n",
        "plt.legend()\n",
        "plt.show()"
      ],
      "metadata": {
        "id": "pEjTSZeAXFoj"
      },
      "execution_count": null,
      "outputs": []
    },
    {
      "cell_type": "code",
      "source": [
        "recall_train = history.history['recall']\n",
        "recall_val = history.history['val_recall']\n",
        "epochs = range(0,10)\n",
        "plt.plot(epochs, recall_train, 'g', label='Training recall')\n",
        "plt.plot(epochs, recall_val, 'b', label='validation recall')\n",
        "plt.title('Training and Validation recall')\n",
        "plt.xlabel('Epochs')\n",
        "plt.ylabel('Recall')\n",
        "plt.legend()\n",
        "plt.show()"
      ],
      "metadata": {
        "id": "N_Mo4J8VXJeI"
      },
      "execution_count": null,
      "outputs": []
    },
    {
      "cell_type": "code",
      "source": [
        "precision_train = history.history['precision']\n",
        "precision_val = history.history['val_precision']\n",
        "epochs = range(0,10)\n",
        "plt.plot(epochs, precision_train, 'g', label='Training precision')\n",
        "plt.plot(epochs, precision_val, 'b', label='validation precision')\n",
        "plt.title('Training and Validation precision')\n",
        "plt.xlabel('Epochs')\n",
        "plt.ylabel('Precision')\n",
        "plt.legend()\n",
        "plt.show()"
      ],
      "metadata": {
        "id": "1kC_QYyHXNU1"
      },
      "execution_count": null,
      "outputs": []
    },
    {
      "cell_type": "markdown",
      "metadata": {
        "id": "4adDDQWeQyGb"
      },
      "source": [
        "## Theory Question Follow up\n",
        "\n",
        "What is the difference between Count Vectorizer, TFIDF, Word2Vec and Glove?"
      ]
    },
    {
      "cell_type": "markdown",
      "metadata": {
        "id": "cXTRkF6KRB_D"
      },
      "source": [
        "**Answer:**\n",
        "\n",
        "Count Vectorizer: Count Vectorizer generates a vector with frequency of each term in a document. This can be used in cases where you want to find nature/class of a document\n",
        "\n",
        "TF-IDF: This is a word-document importance mapping algorithm. In this concept, the order of words has zero significance. Unlike Count Vectorizer, it generates a matrix depicting how important a word is to a document among the corpus of vocabulary and not just the frequency. TF-IDF is obtained through linear algebra and its value can be generated to words or to documents.\n",
        "\n",
        "Word2Vec: Word2Vec algorithm gives associations between words from a corpus. It gives a vector which represents each word as a real number, indicating the level of similarity between semantics of words with the neighbouring words (local context). Unlike TF-IDF, order/placement of words in a document is given importance in Word2Vec.\n",
        "\n",
        "GloVe: Unlike Word2Vector, GloVe is an algorithm which finds the co-occurence and semantic similarity of words with respect to entire corpus (global context) and not just neighbouring words"
      ]
    },
    {
      "cell_type": "markdown",
      "metadata": {
        "id": "yQQsqcto79zE"
      },
      "source": [
        "What is the significant difference between the Niave Bayes Implementation using Bag of Words and TF-IDF?"
      ]
    },
    {
      "cell_type": "markdown",
      "metadata": {
        "id": "JtiPCTZM8Aua"
      },
      "source": [
        "**Answer:**\n",
        "\n",
        "The Bag of Words technique essentially generates a set of vectors reflecting the count of word occurrences in the text, but the TF-IDF model incorporates information on both key and minor words. Each index location in the feature vector generated by the TF-IDF vectorizer represents a word with the same integer value associated with the vocabulary. Whereas with BoW, the resultant vector contains vocabulary with indexes rising in aplhabetical order of each word's first letter."
      ]
    }
  ],
  "metadata": {
    "colab": {
      "provenance": []
    },
    "kernelspec": {
      "display_name": "Python 3",
      "language": "python",
      "name": "python3"
    },
    "language_info": {
      "codemirror_mode": {
        "name": "ipython",
        "version": 3
      },
      "file_extension": ".py",
      "mimetype": "text/x-python",
      "name": "python",
      "nbconvert_exporter": "python",
      "pygments_lexer": "ipython3",
      "version": "3.7.5"
    }
  },
  "nbformat": 4,
  "nbformat_minor": 0
}